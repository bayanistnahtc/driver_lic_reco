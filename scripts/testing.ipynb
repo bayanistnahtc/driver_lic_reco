{
 "cells": [
  {
   "cell_type": "code",
   "execution_count": 1,
   "id": "4e22aee8-e833-45f3-ad75-257f31ba92fb",
   "metadata": {},
   "outputs": [],
   "source": [
    "import pandas as pd\n",
    "import numpy as np\n",
    "import matplotlib.pyplot as plt\n",
    "import torch\n",
    "\n",
    "from PIL import Image\n",
    "from tqdm import tqdm"
   ]
  },
  {
   "cell_type": "code",
   "execution_count": 2,
   "id": "22eb9a94-52f7-4555-9b08-b17de59981e5",
   "metadata": {},
   "outputs": [
    {
     "name": "stderr",
     "output_type": "stream",
     "text": [
      "/opt/conda/lib/python3.11/site-packages/torch/nn/modules/rnn.py:83: UserWarning: dropout option adds dropout after all but last recurrent layer, so non-zero dropout expects num_layers greater than 1, but got dropout=0.5 and num_layers=1\n",
      "  warnings.warn(\"dropout option adds dropout after all but last \"\n"
     ]
    }
   ],
   "source": [
    "from utils.load_models import *\n",
    "from utils.preprocess import *\n",
    "from utils.predict import get_pt_predictions, get_tf_predictions\n",
    "from utils.compute_metrics import compute_accuracy"
   ]
  },
  {
   "cell_type": "code",
   "execution_count": 3,
   "id": "63574ec2-86ad-4a38-88ab-889f5682b11d",
   "metadata": {},
   "outputs": [],
   "source": [
    "image_df = pd.read_csv('driver_license_test.csv')\n",
    "labels_df  = pd.read_csv('dl_2901.csv')[['c_guid', 'c_name', 'c_surname', 'c_patronymic', 'c_birth', 'c_driver_license_date_to', 'c_driver_license']]"
   ]
  },
  {
   "cell_type": "code",
   "execution_count": 4,
   "id": "5e7417b2-341a-4ecf-805a-bd90c2d2e7ac",
   "metadata": {},
   "outputs": [],
   "source": [
    "image_df = image_df.rename(columns={'ids': 'c_guid'})\n",
    "testset = pd.merge(image_df, labels_df, on='c_guid', how='inner')"
   ]
  },
  {
   "cell_type": "code",
   "execution_count": 5,
   "id": "13a96777-f865-4498-9629-7831821a620e",
   "metadata": {},
   "outputs": [],
   "source": [
    "dl_fio = pd.read_csv('dl_fio_testset.csv')\n",
    "dl_date = pd.read_csv('dl_date_testset.csv')\n",
    "dl_serial = pd.read_csv('dl_serial_testset.csv')"
   ]
  },
  {
   "cell_type": "code",
   "execution_count": 6,
   "id": "712cca6c-3bde-481f-b8af-6d3dfb1994d9",
   "metadata": {},
   "outputs": [],
   "source": [
    "assert len(dl_fio) == len(dl_date) == len(dl_serial), 'Датасеты не совпадают! Должна быть одинаковая длина для всех данных'\n",
    "assert dl_fio['c_guid'].tolist() == dl_date['c_guid'].tolist() == dl_serial['c_guid'].tolist(), 'Датасеты содержат разные айди!'"
   ]
  },
  {
   "cell_type": "code",
   "execution_count": 7,
   "id": "c663eb27-a36c-47ac-917f-d940b16cc34f",
   "metadata": {},
   "outputs": [
    {
     "name": "stderr",
     "output_type": "stream",
     "text": [
      "100%|██████████| 300/300 [00:03<00:00, 81.16it/s]\n",
      "100%|██████████| 300/300 [00:02<00:00, 126.07it/s]\n",
      "100%|██████████| 300/300 [00:01<00:00, 255.14it/s]\n"
     ]
    }
   ],
   "source": [
    "predictions = get_pt_predictions(dl_fio, dl_date, dl_serial)"
   ]
  },
  {
   "cell_type": "code",
   "execution_count": 8,
   "id": "af5d5f7d-76c6-4459-b4c5-cfbbe3bdcd98",
   "metadata": {},
   "outputs": [],
   "source": [
    "df_real = testset[['c_guid', 'c_surname', 'c_name', 'c_patronymic', 'c_driver_license_date_to', 'c_birth', 'c_driver_license']]\n",
    "\n",
    "rename_cols = {'c_surname': 'surname', 'c_name': 'name', 'c_patronymic': 'midlename', 'c_driver_license_date_to': 'dateout', 'c_birth': 'birthday', 'c_driver_license': 'siriestype3'}\n",
    "df_real = df_real.rename(columns=rename_cols)\n",
    "\n",
    "df_real = prepare_dataset(df_real, date_cols=['birthday', 'dateout'], name_cols=['surname', 'name', 'midlename'])"
   ]
  },
  {
   "cell_type": "code",
   "execution_count": 9,
   "id": "28be46bf-d78d-4e73-b286-a8a803ae68e5",
   "metadata": {},
   "outputs": [],
   "source": [
    "pt_metrics = compute_accuracy(df_real, predictions)"
   ]
  },
  {
   "cell_type": "code",
   "execution_count": 10,
   "id": "01be506f-2762-4f33-9111-92ae10b32a1b",
   "metadata": {},
   "outputs": [
    {
     "data": {
      "text/plain": [
       "{'c_guid': 1.0,\n",
       " 'surname': 0.9466666666666667,\n",
       " 'name': 0.9433333333333334,\n",
       " 'midlename': 0.9333333333333333,\n",
       " 'dateout': 0.8633333333333333,\n",
       " 'birthday': 0.95,\n",
       " 'siriestype3': 0.93}"
      ]
     },
     "execution_count": 10,
     "metadata": {},
     "output_type": "execute_result"
    }
   ],
   "source": [
    "pt_metrics"
   ]
  },
  {
   "cell_type": "code",
   "execution_count": 11,
   "id": "4b92c183-fa6c-4329-865c-2331962fdf4e",
   "metadata": {},
   "outputs": [
    {
     "name": "stderr",
     "output_type": "stream",
     "text": [
      "100%|██████████| 300/300 [01:45<00:00,  2.86it/s]\n"
     ]
    }
   ],
   "source": [
    "tf_predictions = get_tf_predictions(image_df['c_guid'].tolist())"
   ]
  },
  {
   "cell_type": "code",
   "execution_count": 12,
   "id": "84557cb9-a344-4e14-95ec-602c73d79211",
   "metadata": {},
   "outputs": [
    {
     "data": {
      "text/html": [
       "<div>\n",
       "<style scoped>\n",
       "    .dataframe tbody tr th:only-of-type {\n",
       "        vertical-align: middle;\n",
       "    }\n",
       "\n",
       "    .dataframe tbody tr th {\n",
       "        vertical-align: top;\n",
       "    }\n",
       "\n",
       "    .dataframe thead th {\n",
       "        text-align: right;\n",
       "    }\n",
       "</style>\n",
       "<table border=\"1\" class=\"dataframe\">\n",
       "  <thead>\n",
       "    <tr style=\"text-align: right;\">\n",
       "      <th></th>\n",
       "      <th>c_guid</th>\n",
       "      <th>surname</th>\n",
       "      <th>name</th>\n",
       "      <th>middle_name</th>\n",
       "      <th>front_serial</th>\n",
       "      <th>dateout</th>\n",
       "      <th>birthday</th>\n",
       "    </tr>\n",
       "  </thead>\n",
       "  <tbody>\n",
       "    <tr>\n",
       "      <th>0</th>\n",
       "      <td>ru-ds.20241224.68ee8f29-ba61-4507-9d6e-2a7cfcc...</td>\n",
       "      <td>ГРИНЯКИНА</td>\n",
       "      <td>ОКСАНА</td>\n",
       "      <td>ВЛАДИМИРОВНА</td>\n",
       "      <td>99 25 890015</td>\n",
       "      <td>NaN</td>\n",
       "      <td>26.10.1976</td>\n",
       "    </tr>\n",
       "    <tr>\n",
       "      <th>1</th>\n",
       "      <td>ru-ds.20241224.5639c7b6-c0bc-4588-a0dc-bf85bbf...</td>\n",
       "      <td>БАРАНОВА</td>\n",
       "      <td>РИММА</td>\n",
       "      <td>ПАВЛОВНА</td>\n",
       "      <td>99 27 985671</td>\n",
       "      <td>25.10.2032</td>\n",
       "      <td>30.07.1984</td>\n",
       "    </tr>\n",
       "    <tr>\n",
       "      <th>2</th>\n",
       "      <td>ru-ds.20241224.fc2c43e5-2f60-454b-acf3-50f4e2e...</td>\n",
       "      <td>АКСЕНОВ</td>\n",
       "      <td>ВАСИЛИЙ</td>\n",
       "      <td>ВЛАДИМИРОВИЧ</td>\n",
       "      <td>99 16 494167</td>\n",
       "      <td>03.07.2030</td>\n",
       "      <td>06.12.1974</td>\n",
       "    </tr>\n",
       "    <tr>\n",
       "      <th>3</th>\n",
       "      <td>ru-ds.20241224.ba651e6c-3185-432e-b2b7-4d9a513...</td>\n",
       "      <td>ГАЛКИНА</td>\n",
       "      <td>ЕКАТЕРИНА</td>\n",
       "      <td>АНДРЕЕВНА</td>\n",
       "      <td>99 33 080257</td>\n",
       "      <td>18.01.2033</td>\n",
       "      <td>18.06.2001</td>\n",
       "    </tr>\n",
       "    <tr>\n",
       "      <th>4</th>\n",
       "      <td>ru-ds.20241224.62c6a646-4a3d-4ce0-839c-bea2bc7...</td>\n",
       "      <td>ХЕЛЕМЕРЯ</td>\n",
       "      <td>АЛЕКСАНДР</td>\n",
       "      <td>АЛЕКСАНДРОВИЧ</td>\n",
       "      <td>99 15 135440</td>\n",
       "      <td>14.03.2030</td>\n",
       "      <td>21.07.1967</td>\n",
       "    </tr>\n",
       "  </tbody>\n",
       "</table>\n",
       "</div>"
      ],
      "text/plain": [
       "                                              c_guid    surname       name  \\\n",
       "0  ru-ds.20241224.68ee8f29-ba61-4507-9d6e-2a7cfcc...  ГРИНЯКИНА     ОКСАНА   \n",
       "1  ru-ds.20241224.5639c7b6-c0bc-4588-a0dc-bf85bbf...   БАРАНОВА      РИММА   \n",
       "2  ru-ds.20241224.fc2c43e5-2f60-454b-acf3-50f4e2e...    АКСЕНОВ    ВАСИЛИЙ   \n",
       "3  ru-ds.20241224.ba651e6c-3185-432e-b2b7-4d9a513...    ГАЛКИНА  ЕКАТЕРИНА   \n",
       "4  ru-ds.20241224.62c6a646-4a3d-4ce0-839c-bea2bc7...   ХЕЛЕМЕРЯ  АЛЕКСАНДР   \n",
       "\n",
       "     middle_name  front_serial     dateout    birthday  \n",
       "0   ВЛАДИМИРОВНА  99 25 890015         NaN  26.10.1976  \n",
       "1       ПАВЛОВНА  99 27 985671  25.10.2032  30.07.1984  \n",
       "2   ВЛАДИМИРОВИЧ  99 16 494167  03.07.2030  06.12.1974  \n",
       "3      АНДРЕЕВНА  99 33 080257  18.01.2033  18.06.2001  \n",
       "4  АЛЕКСАНДРОВИЧ  99 15 135440  14.03.2030  21.07.1967  "
      ]
     },
     "execution_count": 12,
     "metadata": {},
     "output_type": "execute_result"
    }
   ],
   "source": [
    "df_real = testset[['c_guid', 'c_surname', 'c_name', 'c_patronymic', 'c_driver_license', 'c_driver_license_date_to', 'c_birth']]\n",
    "\n",
    "rename_cols = {'c_surname': 'surname', 'c_name': 'name', 'c_patronymic': 'middle_name', 'c_birth': 'birthday', 'c_driver_license_date_to': 'dateout', 'c_driver_license': 'front_serial'}\n",
    "df_real = df_real.rename(columns=rename_cols)\n",
    "\n",
    "df_real = prepare_dataset(df_real, date_cols=['birthday', 'dateout'], name_cols=['surname', 'name', 'middle_name'])\n",
    "df_real.head()"
   ]
  },
  {
   "cell_type": "code",
   "execution_count": 14,
   "id": "7a9dbca6-1766-4426-9bc3-34c0801782bb",
   "metadata": {},
   "outputs": [
    {
     "data": {
      "text/plain": [
       "{'c_guid': 1.0,\n",
       " 'surname': 0.9433333333333334,\n",
       " 'name': 0.93,\n",
       " 'middle_name': 0.9266666666666666,\n",
       " 'front_serial': 0.9266666666666666,\n",
       " 'dateout': 0.8366666666666667,\n",
       " 'birthday': 0.94}"
      ]
     },
     "execution_count": 14,
     "metadata": {},
     "output_type": "execute_result"
    }
   ],
   "source": [
    "tf_metrics = compute_accuracy(df_real, tf_predictions)\n",
    "tf_metrics"
   ]
  },
  {
   "cell_type": "code",
   "execution_count": 15,
   "id": "a43a7268-3f39-4cd4-a630-acf5f1562b5a",
   "metadata": {},
   "outputs": [],
   "source": [
    "from utils.postprocess import rename_cols\n",
    "rename_col = {'midlename': 'middle_name', 'siriestype3': 'front_serial'}\n",
    "rename_cols(tf_metrics, rename_col)"
   ]
  },
  {
   "cell_type": "code",
   "execution_count": 17,
   "id": "164a5e98-de56-4956-bff4-99f9695b5766",
   "metadata": {},
   "outputs": [
    {
     "data": {
      "text/html": [
       "<div>\n",
       "<style scoped>\n",
       "    .dataframe tbody tr th:only-of-type {\n",
       "        vertical-align: middle;\n",
       "    }\n",
       "\n",
       "    .dataframe tbody tr th {\n",
       "        vertical-align: top;\n",
       "    }\n",
       "\n",
       "    .dataframe thead th {\n",
       "        text-align: right;\n",
       "    }\n",
       "</style>\n",
       "<table border=\"1\" class=\"dataframe\">\n",
       "  <thead>\n",
       "    <tr style=\"text-align: right;\">\n",
       "      <th></th>\n",
       "      <th>new</th>\n",
       "      <th>old</th>\n",
       "    </tr>\n",
       "  </thead>\n",
       "  <tbody>\n",
       "    <tr>\n",
       "      <th>c_guid</th>\n",
       "      <td>1.000000</td>\n",
       "      <td>1.000000</td>\n",
       "    </tr>\n",
       "    <tr>\n",
       "      <th>surname</th>\n",
       "      <td>0.903333</td>\n",
       "      <td>0.943333</td>\n",
       "    </tr>\n",
       "    <tr>\n",
       "      <th>name</th>\n",
       "      <td>0.936667</td>\n",
       "      <td>0.930000</td>\n",
       "    </tr>\n",
       "    <tr>\n",
       "      <th>midlename</th>\n",
       "      <td>0.913333</td>\n",
       "      <td>0.926667</td>\n",
       "    </tr>\n",
       "    <tr>\n",
       "      <th>dateout</th>\n",
       "      <td>0.863333</td>\n",
       "      <td>0.836667</td>\n",
       "    </tr>\n",
       "    <tr>\n",
       "      <th>birthday</th>\n",
       "      <td>0.950000</td>\n",
       "      <td>0.940000</td>\n",
       "    </tr>\n",
       "    <tr>\n",
       "      <th>siriestype3</th>\n",
       "      <td>0.920000</td>\n",
       "      <td>0.926667</td>\n",
       "    </tr>\n",
       "  </tbody>\n",
       "</table>\n",
       "</div>"
      ],
      "text/plain": [
       "                  new       old\n",
       "c_guid       1.000000  1.000000\n",
       "surname      0.903333  0.943333\n",
       "name         0.936667  0.930000\n",
       "midlename    0.913333  0.926667\n",
       "dateout      0.863333  0.836667\n",
       "birthday     0.950000  0.940000\n",
       "siriestype3  0.920000  0.926667"
      ]
     },
     "execution_count": 17,
     "metadata": {},
     "output_type": "execute_result"
    }
   ],
   "source": [
    "df = pd.DataFrame({'new': pt_metrics, 'old': tf_metrics})\n",
    "df"
   ]
  },
  {
   "cell_type": "code",
   "execution_count": null,
   "id": "a2bbe3cb-073a-4223-9281-a680e28eb87b",
   "metadata": {},
   "outputs": [],
   "source": []
  }
 ],
 "metadata": {
  "kernelspec": {
   "display_name": "Python 3 (ipykernel)",
   "language": "python",
   "name": "python3"
  },
  "language_info": {
   "codemirror_mode": {
    "name": "ipython",
    "version": 3
   },
   "file_extension": ".py",
   "mimetype": "text/x-python",
   "name": "python",
   "nbconvert_exporter": "python",
   "pygments_lexer": "ipython3",
   "version": "3.11.9"
  }
 },
 "nbformat": 4,
 "nbformat_minor": 5
}
